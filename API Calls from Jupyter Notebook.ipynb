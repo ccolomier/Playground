{
 "cells": [
  {
   "cell_type": "markdown",
   "metadata": {},
   "source": [
    "## Initial Code\n",
    "\n",
    "Create strAPI and endpoint to create GET requests to the PokeAPI"
   ]
  },
  {
   "cell_type": "code",
   "execution_count": 1,
   "metadata": {},
   "outputs": [],
   "source": [
    "import requests\n",
    "import pandas as pd\n",
    "\n",
    "strAPI = \"https://pokeapi.co/api/v2/\"\n",
    "\n",
    "endpoint = \"pokemon/35\"\n",
    "\n",
    "result = requests.get(strAPI + endpoint)"
   ]
  },
  {
   "cell_type": "markdown",
   "metadata": {},
   "source": [
    "## Read the Results"
   ]
  },
  {
   "cell_type": "code",
   "execution_count": 2,
   "metadata": {},
   "outputs": [],
   "source": [
    "result_text = result.text\n",
    "result_json = result.json()\n",
    "\n"
   ]
  },
  {
   "cell_type": "code",
   "execution_count": 3,
   "metadata": {},
   "outputs": [
    {
     "name": "stdout",
     "output_type": "stream",
     "text": [
      "dict_keys(['abilities', 'base_experience', 'forms', 'game_indices', 'height', 'held_items', 'id', 'is_default', 'location_area_encounters', 'moves', 'name', 'order', 'past_types', 'species', 'sprites', 'stats', 'types', 'weight'])\n"
     ]
    }
   ],
   "source": [
    "print(result_json.keys())"
   ]
  },
  {
   "cell_type": "code",
   "execution_count": 4,
   "metadata": {},
   "outputs": [
    {
     "name": "stdout",
     "output_type": "stream",
     "text": [
      "                                             ability  is_hidden  slot\n",
      "0  {'name': 'cute-charm', 'url': 'https://pokeapi...      False     1\n",
      "1  {'name': 'magic-guard', 'url': 'https://pokeap...      False     2\n",
      "2  {'name': 'friend-guard', 'url': 'https://pokea...       True     3\n"
     ]
    }
   ],
   "source": [
    "abilities = result_json['abilities']\n",
    "abiltiy_df = pd.DataFrame(abilities)\n",
    "\n",
    "print(abiltiy_df)"
   ]
  },
  {
   "cell_type": "code",
   "execution_count": 9,
   "metadata": {},
   "outputs": [
    {
     "name": "stdout",
     "output_type": "stream",
     "text": [
      "0    {'name': 'cute-charm', 'url': 'https://pokeapi...\n",
      "1    {'name': 'magic-guard', 'url': 'https://pokeap...\n",
      "2    {'name': 'friend-guard', 'url': 'https://pokea...\n",
      "Name: ability, dtype: object\n"
     ]
    }
   ],
   "source": [
    "print(abiltiy_df['ability'])"
   ]
  }
 ],
 "metadata": {
  "interpreter": {
   "hash": "57baa5815c940fdaff4d14510622de9616cae602444507ba5d0b6727c008cbd6"
  },
  "kernelspec": {
   "display_name": "Python 3.7.8 64-bit",
   "name": "python3"
  },
  "language_info": {
   "codemirror_mode": {
    "name": "ipython",
    "version": 3
   },
   "file_extension": ".py",
   "mimetype": "text/x-python",
   "name": "python",
   "nbconvert_exporter": "python",
   "pygments_lexer": "ipython3",
   "version": "3.7.8"
  },
  "orig_nbformat": 4
 },
 "nbformat": 4,
 "nbformat_minor": 2
}
