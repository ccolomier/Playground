{
 "cells": [
  {
   "cell_type": "markdown",
   "metadata": {},
   "source": [
    "Interest rate calculator"
   ]
  },
  {
   "cell_type": "code",
   "execution_count": 54,
   "metadata": {},
   "outputs": [],
   "source": [
    "import numpy as np\n",
    "import numpy_financial as npf\n",
    "import pandas as pd\n",
    "\n",
    "#Variable depending on neighbor hood\n",
    "real_estate_tax = 0.0200\n",
    "\n",
    "#USA average for a person with excellent (800+) credit\n",
    "mortgage_rate = 0.0320\n",
    "\n",
    "#Amount in the savings account\n",
    "down_payment = np.array(range(30000,120000,10000))\n",
    "\n",
    "#Predicting a 30 year mortgage period\n",
    "mortgage_length = 30\n",
    "\n",
    "#The value of $110 is an USA average\n",
    "home_insurance = 110\n",
    "\n",
    "#PMI rate is on the high end \n",
    "pmi_rate = 0.0100\n",
    "\n",
    "#HOME PRICE\n",
    "home_price = 450e3"
   ]
  },
  {
   "cell_type": "code",
   "execution_count": 55,
   "metadata": {},
   "outputs": [
    {
     "name": "stdout",
     "output_type": "stream",
     "text": [
      "[3026.36083389 2974.78081403 2923.20079418 2871.62077432 2820.04075447\n",
      " 2768.46073461 2416.88071476 2373.63402824 2330.38734172]\n"
     ]
    }
   ],
   "source": [
    "#Calculate monthly PMI for a mortgage payment\n",
    "pmi = []\n",
    "for pmt in down_payment:\n",
    "    if pmt >= home_price * 0.20:\n",
    "        pmi.append(0)\n",
    "    else:\n",
    "        pmi.append(((home_price - pmt) * pmi_rate) / 12)\n",
    "\n",
    "pmi = np.array(pmi)\n",
    "\n",
    "\n",
    "monthly_payment = -(npf.pmt(mortgage_rate/12, mortgage_length*12, home_price - down_payment)) + \\\n",
    "                   (home_price * real_estate_tax) / 12 + \\\n",
    "                    home_insurance + \\\n",
    "                    pmi\n",
    "print(monthly_payment)"
   ]
  },
  {
   "cell_type": "code",
   "execution_count": 56,
   "metadata": {},
   "outputs": [
    {
     "name": "stdout",
     "output_type": "stream",
     "text": [
      "   Down_Payment  Monthly_Mortgage_Payment\n",
      "0         30000               3026.360834\n",
      "1         40000               2974.780814\n",
      "2         50000               2923.200794\n",
      "3         60000               2871.620774\n",
      "4         70000               2820.040754\n",
      "5         80000               2768.460735\n",
      "6         90000               2416.880715\n",
      "7        100000               2373.634028\n",
      "8        110000               2330.387342\n"
     ]
    }
   ],
   "source": [
    "pmts_df = pd.DataFrame({\n",
    "    \"Down_Payment\": down_payment,\n",
    "    \"Monthly_Mortgage_Payment\": monthly_payment\n",
    "})\n",
    "\n",
    "print(pmts_df)"
   ]
  },
  {
   "cell_type": "code",
   "execution_count": 62,
   "metadata": {},
   "outputs": [
    {
     "name": "stdout",
     "output_type": "stream",
     "text": [
      "-51.580019854450256\n",
      "-43.24668652111677\n"
     ]
    },
    {
     "data": {
      "image/png": "[encoded data removed]",
      "text/plain": [
       "<Figure size 432x288 with 1 Axes>"
      ]
     },
     "metadata": {
      "needs_background": "light"
     },
     "output_type": "display_data"
    }
   ],
   "source": [
    "pmts_df.plot(x = \"Down_Payment\", y = \"Monthly_Mortgage_Payment\")\n",
    "\n",
    "slope_1 = (monthly_payment[3] - monthly_payment[2])\n",
    "slope_2 = (monthly_payment[8] - monthly_payment[7])\n",
    "print(slope_1)\n",
    "print(slope_2)"
   ]
  }
 ],
 "metadata": {
  "interpreter": {
   "hash": "57baa5815c940fdaff4d14510622de9616cae602444507ba5d0b6727c008cbd6"
  },
  "kernelspec": {
   "display_name": "Python 3.7.8 64-bit",
   "language": "python",
   "name": "python3"
  },
  "language_info": {
   "codemirror_mode": {
    "name": "ipython",
    "version": 3
   },
   "file_extension": ".py",
   "mimetype": "text/x-python",
   "name": "python",
   "nbconvert_exporter": "python",
   "pygments_lexer": "ipython3",
   "version": "3.7.8"
  },
  "orig_nbformat": 4
 },
 "nbformat": 4,
 "nbformat_minor": 2
}
